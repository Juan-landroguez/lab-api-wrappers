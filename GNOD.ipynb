{
 "cells": [
  {
   "cell_type": "code",
   "execution_count": null,
   "id": "5fa86d84",
   "metadata": {},
   "outputs": [],
   "source": [
    "from bs4 import BeautifulSoup\n",
    "import requests\n",
    "import pandas as pd\n"
   ]
  },
  {
   "cell_type": "code",
   "execution_count": null,
   "id": "51df043f",
   "metadata": {},
   "outputs": [],
   "source": [
    "# 2. find url and store it in a variable\n",
    "\n",
    "url = \"http://www.popvortex.com/music/charts/top-100-songs.php\""
   ]
  },
  {
   "cell_type": "code",
   "execution_count": null,
   "id": "bfe43a76",
   "metadata": {},
   "outputs": [],
   "source": [
    "# 3. download html with a get request\n",
    "\n",
    "response = requests.get(url)\n",
    "response.status_code # 200 status code means OK!"
   ]
  },
  {
   "cell_type": "code",
   "execution_count": null,
   "id": "5f505b5e",
   "metadata": {},
   "outputs": [],
   "source": [
    "# 4.1. parse html (create the 'soup')\n",
    "soup = BeautifulSoup(response.content, \"html.parser\")"
   ]
  },
  {
   "cell_type": "code",
   "execution_count": null,
   "id": "85f452f3",
   "metadata": {},
   "outputs": [],
   "source": [
    "# 4.2. check that the html code looks like it should\n",
    "#soup"
   ]
  },
  {
   "cell_type": "code",
   "execution_count": null,
   "id": "e4e551c5",
   "metadata": {},
   "outputs": [],
   "source": [
    "# 5. retrieve/extract the desired info (here, you'll paste the \"Selector\" you copied before to get the element that belongs to the top movie)\n",
    "soup.select(\"#chart-position-1 > div.chart-content.col-xs-12.col-sm-8 > p\")\n",
    "#chart-position-1 > div.chart-content.col-xs-12.col-sm-8 > p > cite"
   ]
  },
  {
   "cell_type": "code",
   "execution_count": null,
   "id": "baa11364",
   "metadata": {},
   "outputs": [],
   "source": [
    "soup.select(\"p cite\")[0].get_text()\n"
   ]
  },
  {
   "cell_type": "code",
   "execution_count": null,
   "id": "415b1f24",
   "metadata": {},
   "outputs": [],
   "source": [
    "soup.select(\"p em\")[0].get_text()\n"
   ]
  },
  {
   "cell_type": "markdown",
   "id": "7a28ffa8",
   "metadata": {},
   "source": [
    "# Scrape the current top 100 songs and their respective artists, and put the information into a pandas dataframe."
   ]
  },
  {
   "cell_type": "code",
   "execution_count": null,
   "id": "cf65d032",
   "metadata": {},
   "outputs": [],
   "source": [
    "title = []\n",
    "band = []\n",
    "num_iter = len(soup.select(\"p cite\"))\n",
    "ttitle = soup.select(\"p cite\")\n",
    "tband = soup.select(\"p em\")\n",
    "for i in range(num_iter):\n",
    "    title.append(ttitle[i].get_text())\n",
    "    band.append(tband[i].get_text())\n",
    "    \n",
    "#print(title)\n",
    "print(band)\n",
    "\n"
   ]
  },
  {
   "cell_type": "code",
   "execution_count": null,
   "id": "ba1c99f1",
   "metadata": {},
   "outputs": [],
   "source": [
    "# each list becomes a column\n",
    "Topsongs = pd.DataFrame({\"title\":title,\n",
    "                       \"band\":band,\n",
    "                      })"
   ]
  },
  {
   "cell_type": "code",
   "execution_count": null,
   "id": "a4df2367",
   "metadata": {},
   "outputs": [],
   "source": [
    "Topsongs"
   ]
  },
  {
   "cell_type": "markdown",
   "id": "302dce8b",
   "metadata": {},
   "source": [
    "# Find other lists of hot songs on the internet and scrape them too: having a bigger pool of songs will be awesome!\n"
   ]
  },
  {
   "cell_type": "code",
   "execution_count": null,
   "id": "09d7440e",
   "metadata": {},
   "outputs": [],
   "source": [
    "# Top 100 Hip Hop & Rap Songs\n",
    "# "
   ]
  },
  {
   "cell_type": "code",
   "execution_count": null,
   "id": "3b6a179f",
   "metadata": {},
   "outputs": [],
   "source": [
    "# 2. find url and store it in a variable\n",
    "\n",
    "url2 = \"https://www.popvortex.com/music/charts/top-rap-songs.php\""
   ]
  },
  {
   "cell_type": "code",
   "execution_count": null,
   "id": "71cdf53b",
   "metadata": {},
   "outputs": [],
   "source": [
    "# 3. download html with a get request\n",
    "\n",
    "response2 = requests.get(url2)\n",
    "response2.status_code # 200 status code means OK!"
   ]
  },
  {
   "cell_type": "code",
   "execution_count": null,
   "id": "5b6a58ff",
   "metadata": {},
   "outputs": [],
   "source": [
    "# 4.1. parse html (create the 'soup')\n",
    "soup2 = BeautifulSoup(response2.content, \"html.parser\")"
   ]
  },
  {
   "cell_type": "code",
   "execution_count": null,
   "id": "3d5f14c2",
   "metadata": {},
   "outputs": [],
   "source": [
    "# 4.2. check that the html code looks like it should\n",
    "#soup"
   ]
  },
  {
   "cell_type": "code",
   "execution_count": null,
   "id": "93ab5895",
   "metadata": {},
   "outputs": [],
   "source": [
    "# 5. retrieve/extract the desired info (here, you'll paste the \"Selector\" you copied before to get the element that belongs to the top movie)\n",
    "soup2.select(\"#chart-position-1 > div.chart-content.col-xs-12.col-sm-8 > p\")\n",
    "#chart-position-1 > div.chart-content.col-xs-12.col-sm-8 > p > cite"
   ]
  },
  {
   "cell_type": "code",
   "execution_count": null,
   "id": "12ce56da",
   "metadata": {},
   "outputs": [],
   "source": [
    "soup2.select(\"p cite\")[0].get_text()\n",
    "soup2.select(\"p em\")[0].get_text()\n"
   ]
  },
  {
   "cell_type": "code",
   "execution_count": null,
   "id": "df1bd330",
   "metadata": {},
   "outputs": [],
   "source": [
    "title = []\n",
    "band = []\n",
    "num_iter = len(soup2.select(\"p cite\"))\n",
    "ttitle = soup2.select(\"p cite\")\n",
    "tband = soup2.select(\"p em\")\n",
    "for i in range(num_iter):\n",
    "    title.append(ttitle[i].get_text())\n",
    "    band.append(tband[i].get_text())\n",
    "    \n",
    "#print(title)\n",
    "print(band)\n"
   ]
  },
  {
   "cell_type": "code",
   "execution_count": null,
   "id": "a5686861",
   "metadata": {},
   "outputs": [],
   "source": [
    "# each list becomes a column\n",
    "Topsongs2 = pd.DataFrame({\"title\":title,\n",
    "                       \"band\":band,\n",
    "                      })"
   ]
  },
  {
   "cell_type": "code",
   "execution_count": null,
   "id": "b9e3948f",
   "metadata": {},
   "outputs": [],
   "source": [
    "# Top 100 Pop Songs\n",
    "# "
   ]
  },
  {
   "cell_type": "code",
   "execution_count": null,
   "id": "2caff2c6",
   "metadata": {},
   "outputs": [],
   "source": [
    "# 2. find url and store it in a variable\n",
    "\n",
    "url3 = \"https://www.popvortex.com/music/charts/top-pop-songs.php\""
   ]
  },
  {
   "cell_type": "code",
   "execution_count": null,
   "id": "64b0bf9c",
   "metadata": {},
   "outputs": [],
   "source": [
    "# 3. download html with a get request\n",
    "\n",
    "response3 = requests.get(url3)\n",
    "response3.status_code # 200 status code means OK!"
   ]
  },
  {
   "cell_type": "code",
   "execution_count": null,
   "id": "017daa12",
   "metadata": {},
   "outputs": [],
   "source": [
    "# 4.1. parse html (create the 'soup')\n",
    "soup3 = BeautifulSoup(response3.content, \"html.parser\")"
   ]
  },
  {
   "cell_type": "code",
   "execution_count": null,
   "id": "58cd00d5",
   "metadata": {},
   "outputs": [],
   "source": [
    "# 4.2. check that the html code looks like it should\n",
    "#soup"
   ]
  },
  {
   "cell_type": "code",
   "execution_count": null,
   "id": "e8292e0c",
   "metadata": {},
   "outputs": [],
   "source": [
    "# 5. retrieve/extract the desired info (here, you'll paste the \"Selector\" you copied before to get the element that belongs to the top movie)\n",
    "soup3.select(\"#chart-position-1 > div.chart-content.col-xs-12.col-sm-8 > p\")\n",
    "#chart-position-1 > div.chart-content.col-xs-12.col-sm-8 > p > cite"
   ]
  },
  {
   "cell_type": "code",
   "execution_count": null,
   "id": "058f8748",
   "metadata": {},
   "outputs": [],
   "source": [
    "soup3.select(\"p cite\")[0].get_text()\n",
    "soup3.select(\"p em\")[0].get_text()\n"
   ]
  },
  {
   "cell_type": "code",
   "execution_count": null,
   "id": "b030f45c",
   "metadata": {},
   "outputs": [],
   "source": [
    "title = []\n",
    "band = []\n",
    "num_iter = len(soup3.select(\"p cite\"))\n",
    "ttitle = soup3.select(\"p cite\")\n",
    "tband = soup3.select(\"p em\")\n",
    "for i in range(num_iter):\n",
    "    title.append(ttitle[i].get_text())\n",
    "    band.append(tband[i].get_text())\n",
    "    \n",
    "#print(title)\n",
    "print(band)\n"
   ]
  },
  {
   "cell_type": "code",
   "execution_count": null,
   "id": "924f16fe",
   "metadata": {},
   "outputs": [],
   "source": [
    "# each list becomes a column\n",
    "Topsongs3 = pd.DataFrame({\"title\":title,\n",
    "                       \"band\":band,\n",
    "                      })\n",
    "Topsongs3"
   ]
  },
  {
   "cell_type": "code",
   "execution_count": null,
   "id": "5850a41b",
   "metadata": {},
   "outputs": [],
   "source": [
    "# Top 100 Country Songs\n",
    "# "
   ]
  },
  {
   "cell_type": "code",
   "execution_count": null,
   "id": "2582d7f4",
   "metadata": {},
   "outputs": [],
   "source": [
    "# 2. find url and store it in a variable\n",
    "\n",
    "url4 = \"https://www.popvortex.com/music/charts/top-country-songs.php\""
   ]
  },
  {
   "cell_type": "code",
   "execution_count": null,
   "id": "2af33ce1",
   "metadata": {},
   "outputs": [],
   "source": [
    "# 3. download html with a get request\n",
    "\n",
    "response4 = requests.get(url4)\n",
    "response4.status_code # 200 status code means OK!"
   ]
  },
  {
   "cell_type": "code",
   "execution_count": null,
   "id": "f8d058df",
   "metadata": {},
   "outputs": [],
   "source": [
    "# 4.1. parse html (create the 'soup')\n",
    "soup4 = BeautifulSoup(response4.content, \"html.parser\")"
   ]
  },
  {
   "cell_type": "code",
   "execution_count": null,
   "id": "c93ca271",
   "metadata": {},
   "outputs": [],
   "source": [
    "# 4.2. check that the html code looks like it should\n",
    "#soup"
   ]
  },
  {
   "cell_type": "code",
   "execution_count": null,
   "id": "a296166e",
   "metadata": {},
   "outputs": [],
   "source": [
    "# 5. retrieve/extract the desired info (here, you'll paste the \"Selector\" you copied before to get the element that belongs to the top movie)\n",
    "soup4.select(\"#chart-position-1 > div.chart-content.col-xs-12.col-sm-8 > p\")\n",
    "#chart-position-1 > div.chart-content.col-xs-12.col-sm-8 > p > cite"
   ]
  },
  {
   "cell_type": "code",
   "execution_count": null,
   "id": "c01f0614",
   "metadata": {},
   "outputs": [],
   "source": [
    "soup4.select(\"p cite\")[0].get_text()\n",
    "soup4.select(\"p em\")[0].get_text()\n"
   ]
  },
  {
   "cell_type": "code",
   "execution_count": null,
   "id": "9f108f24",
   "metadata": {},
   "outputs": [],
   "source": [
    "title = []\n",
    "band = []\n",
    "num_iter = len(soup4.select(\"p cite\"))\n",
    "ttitle = soup4.select(\"p cite\")\n",
    "tband = soup4.select(\"p em\")\n",
    "for i in range(num_iter):\n",
    "    title.append(ttitle[i].get_text())\n",
    "    band.append(tband[i].get_text())\n",
    "    \n",
    "#print(title)\n",
    "print(band)\n"
   ]
  },
  {
   "cell_type": "code",
   "execution_count": null,
   "id": "96967f19",
   "metadata": {},
   "outputs": [],
   "source": [
    "# each list becomes a column\n",
    "Topsongs4 = pd.DataFrame({\"title\":title,\n",
    "                       \"band\":band,\n",
    "                      })"
   ]
  },
  {
   "cell_type": "code",
   "execution_count": null,
   "id": "da2497e9",
   "metadata": {},
   "outputs": [],
   "source": [
    "Topsongs4"
   ]
  },
  {
   "cell_type": "code",
   "execution_count": null,
   "id": "ad8ed0f2",
   "metadata": {},
   "outputs": [],
   "source": [
    "df = Topsongs.append(Topsongs2, ignore_index=True)\n",
    "df"
   ]
  },
  {
   "cell_type": "code",
   "execution_count": null,
   "id": "a9a81a65",
   "metadata": {},
   "outputs": [],
   "source": [
    "df = df.append(Topsongs3, ignore_index=True)\n",
    "df\n"
   ]
  },
  {
   "cell_type": "code",
   "execution_count": null,
   "id": "cf39f202",
   "metadata": {},
   "outputs": [],
   "source": [
    "df = df.append(Topsongs4, ignore_index=True)\n",
    "df\n"
   ]
  },
  {
   "cell_type": "markdown",
   "id": "8d6cb7ae",
   "metadata": {},
   "source": [
    "# Today you are creating a recommender where the user inputs a song title and check if that song is in the list you created.   If it is,  give a different random song and artist from the list.  If it is not on the list, let the user know that you have no recommendation at this time.\n"
   ]
  },
  {
   "cell_type": "code",
   "execution_count": null,
   "id": "437bce20",
   "metadata": {},
   "outputs": [],
   "source": [
    "your_song = input(\"write down your song: \")\n",
    "your_artist = input(\"write down your artist: \")\n"
   ]
  },
  {
   "cell_type": "code",
   "execution_count": null,
   "id": "9efcafb8",
   "metadata": {},
   "outputs": [],
   "source": [
    "recommendation = df.sample(n=1)\n",
    "recommendation\n"
   ]
  },
  {
   "cell_type": "code",
   "execution_count": 1,
   "id": "6c7cbeff",
   "metadata": {},
   "outputs": [
    {
     "ename": "NameError",
     "evalue": "name 'df' is not defined",
     "output_type": "error",
     "traceback": [
      "\u001b[0;31m---------------------------------------------------------------------------\u001b[0m",
      "\u001b[0;31mNameError\u001b[0m                                 Traceback (most recent call last)",
      "\u001b[0;32m/var/folders/0r/l856hq9x61zf5p8g8vxjs_dh0000gn/T/ipykernel_2737/3434178237.py\u001b[0m in \u001b[0;36m<module>\u001b[0;34m\u001b[0m\n\u001b[0;32m----> 1\u001b[0;31m \u001b[0;32mif\u001b[0m \u001b[0mlen\u001b[0m\u001b[0;34m(\u001b[0m\u001b[0mdf\u001b[0m\u001b[0;34m[\u001b[0m\u001b[0;34m(\u001b[0m\u001b[0mdf\u001b[0m\u001b[0;34m[\u001b[0m\u001b[0;34m'band'\u001b[0m\u001b[0;34m]\u001b[0m \u001b[0;34m==\u001b[0m \u001b[0myour_artist\u001b[0m\u001b[0;34m)\u001b[0m \u001b[0;34m&\u001b[0m \u001b[0;34m(\u001b[0m\u001b[0mdf\u001b[0m\u001b[0;34m[\u001b[0m\u001b[0;34m'title'\u001b[0m\u001b[0;34m]\u001b[0m \u001b[0;34m==\u001b[0m \u001b[0myour_song\u001b[0m\u001b[0;34m)\u001b[0m\u001b[0;34m]\u001b[0m\u001b[0;34m)\u001b[0m \u001b[0;34m==\u001b[0m \u001b[0;36m1\u001b[0m\u001b[0;34m:\u001b[0m\u001b[0;34m\u001b[0m\u001b[0;34m\u001b[0m\u001b[0m\n\u001b[0m\u001b[1;32m      2\u001b[0m     \u001b[0mprint\u001b[0m \u001b[0;34m(\u001b[0m\u001b[0mrecommendation\u001b[0m\u001b[0;34m)\u001b[0m\u001b[0;34m\u001b[0m\u001b[0;34m\u001b[0m\u001b[0m\n\u001b[1;32m      3\u001b[0m \u001b[0;32melse\u001b[0m\u001b[0;34m:\u001b[0m\u001b[0;34m\u001b[0m\u001b[0;34m\u001b[0m\u001b[0m\n\u001b[1;32m      4\u001b[0m     \u001b[0mprint\u001b[0m \u001b[0;34m(\u001b[0m\u001b[0;34m\"Ups, your request didn't works. Try again!\"\u001b[0m\u001b[0;34m)\u001b[0m\u001b[0;34m\u001b[0m\u001b[0;34m\u001b[0m\u001b[0m\n",
      "\u001b[0;31mNameError\u001b[0m: name 'df' is not defined"
     ]
    }
   ],
   "source": [
    "if len(df[(df['band'] == your_artist) & (df['title'] == your_song)]) == 1:\n",
    "    print (recommendation)\n",
    "else:\n",
    "    print (\"Ups, your request didn't works. Try again!\")\n"
   ]
  },
  {
   "cell_type": "markdown",
   "id": "0020de72",
   "metadata": {},
   "source": [
    "# Lab | API wrappers - Create your collection of songs & audio features\n"
   ]
  },
  {
   "cell_type": "code",
   "execution_count": 56,
   "id": "20276048",
   "metadata": {},
   "outputs": [],
   "source": [
    "import spotipy\n",
    "from spotipy.oauth2 import SpotifyClientCredentials\n",
    "import pandas as pd\n",
    "from pandas import json_normalize\n",
    "import requests\n",
    "from bs4 import BeautifulSoup\n",
    "import time\n",
    "import random"
   ]
  },
  {
   "cell_type": "code",
   "execution_count": 57,
   "id": "5e31b04a",
   "metadata": {},
   "outputs": [],
   "source": [
    "# Playslists selected: 4rnleEAOdmFAbRcNCgZMpY , 5S8SJdl1BDc0ugpkEvFsIL"
   ]
  },
  {
   "cell_type": "code",
   "execution_count": 58,
   "id": "bccdae49",
   "metadata": {},
   "outputs": [],
   "source": [
    "secrets_dict={'CID': '',\n",
    " 'Csecret': ''}\n"
   ]
  },
  {
   "cell_type": "code",
   "execution_count": 59,
   "id": "94c065a2",
   "metadata": {},
   "outputs": [],
   "source": [
    "import spotipy\n",
    "from spotipy.oauth2 import SpotifyClientCredentials\n",
    "\n",
    "#Initialize SpotiPy with user credentials\n",
    "sp = spotipy.Spotify(auth_manager=SpotifyClientCredentials(client_id=secrets_dict['CID'],\n",
    "                                                           client_secret=secrets_dict['Csecret']))"
   ]
  },
  {
   "cell_type": "code",
   "execution_count": 25,
   "id": "cb1d41e8",
   "metadata": {},
   "outputs": [],
   "source": [
    "# Audio features"
   ]
  },
  {
   "cell_type": "code",
   "execution_count": 71,
   "id": "6c7cbe76",
   "metadata": {},
   "outputs": [],
   "source": [
    "playlist_id = ['4rnleEAOdmFAbRcNCgZMpY',\n",
    "               '37i9dQZF1DWTmvXBN4DgpA','5DPT4gtwr5AeFlf3YVvdmK','4RVf1hHtwvMEED3yuCNi8q']"
   ]
  },
  {
   "cell_type": "code",
   "execution_count": 72,
   "id": "572bfc06",
   "metadata": {},
   "outputs": [],
   "source": [
    "playlist1 = sp.user_playlist_tracks(\"spotify\", \"4rnleEAOdmFAbRcNCgZMpY\")\n",
    "playlist2 = sp.user_playlist_tracks(\"spotify\", \"37i9dQZF1DWTmvXBN4DgpA\")\n",
    "playlist3 = sp.user_playlist_tracks(\"spotify\", \"5DPT4gtwr5AeFlf3YVvdmK\")\n",
    "playlist4 = sp.user_playlist_tracks(\"spotify\", \"4RVf1hHtwvMEED3yuCNi8q\")\n"
   ]
  },
  {
   "cell_type": "code",
   "execution_count": 73,
   "id": "ee3b2a26",
   "metadata": {},
   "outputs": [
    {
     "data": {
      "text/plain": [
       "dict"
      ]
     },
     "metadata": {},
     "output_type": "display_data"
    },
    {
     "data": {
      "text/plain": [
       "5295"
      ]
     },
     "metadata": {},
     "output_type": "display_data"
    },
    {
     "data": {
      "text/plain": [
       "dict"
      ]
     },
     "metadata": {},
     "output_type": "display_data"
    },
    {
     "data": {
      "text/plain": [
       "1999"
      ]
     },
     "metadata": {},
     "output_type": "display_data"
    },
    {
     "data": {
      "text/plain": [
       "dict"
      ]
     },
     "metadata": {},
     "output_type": "display_data"
    },
    {
     "data": {
      "text/plain": [
       "2705"
      ]
     },
     "metadata": {},
     "output_type": "display_data"
    },
    {
     "data": {
      "text/plain": [
       "dict"
      ]
     },
     "metadata": {},
     "output_type": "display_data"
    },
    {
     "data": {
      "text/plain": [
       "3318"
      ]
     },
     "metadata": {},
     "output_type": "display_data"
    }
   ],
   "source": [
    "display(type(playlist1), playlist1['total'])\n",
    "display(type(playlist2), playlist2['total'])\n",
    "display(type(playlist3), playlist3['total'])\n",
    "display(type(playlist4), playlist4['total'])\n",
    "\n"
   ]
  },
  {
   "cell_type": "code",
   "execution_count": 66,
   "id": "189ad4d8",
   "metadata": {},
   "outputs": [
    {
     "data": {
      "text/plain": [
       "'Take Me To Church'"
      ]
     },
     "metadata": {},
     "output_type": "display_data"
    },
    {
     "data": {
      "text/plain": [
       "'Hozier'"
      ]
     },
     "metadata": {},
     "output_type": "display_data"
    },
    {
     "data": {
      "text/plain": [
       "'spotify:track:7dS5EaCoMnN7DzlpT6aRn2'"
      ]
     },
     "metadata": {},
     "output_type": "display_data"
    }
   ],
   "source": [
    "# Checking the path to get 'title', 'artist' and 'uri'\n",
    "display(playlist1[\"items\"][0][\"track\"][\"name\"]) # title\n",
    "display(playlist1[\"items\"][0][\"track\"][\"artists\"][0][\"name\"]) # artist\n",
    "display(playlist1[\"items\"][0][\"track\"][\"uri\"]) # uri\n"
   ]
  },
  {
   "cell_type": "code",
   "execution_count": 67,
   "id": "ff3b8783",
   "metadata": {},
   "outputs": [],
   "source": [
    "# Retrieving all data from playlists and creating a new dataframe\n"
   ]
  },
  {
   "cell_type": "code",
   "execution_count": 74,
   "id": "92b78ac4",
   "metadata": {},
   "outputs": [],
   "source": [
    "playlists_list = [\"playlist1\",\"playlist2\",\"playlist3\",\"playlist4\"] \n"
   ]
  },
  {
   "cell_type": "code",
   "execution_count": 69,
   "id": "d72d555e",
   "metadata": {},
   "outputs": [],
   "source": [
    "# Function to retrieve ALL data of \"title\", \"artist\", and \"uri\" 's id and metrics\n",
    "\n",
    "def create_playlist_dataframe(playlist, sp):\n",
    "    # List of items in track\n",
    "    tracks = []\n",
    "    \n",
    "    # While there is a next page of results in the playlist\n",
    "    while playlist:\n",
    "        # For each item in playlist:\n",
    "        for item in playlist['items']:\n",
    "            # Look for uri and save id and get values in features\n",
    "            song_uri = item['track']['uri']\n",
    "            features = sp.audio_features(song_uri)[0]\n",
    "            \n",
    "            # New dict retrieving values of 'title', 'artist' and 'uri' (id)\n",
    "            track = {\n",
    "                'title': item['track']['name'],\n",
    "                'artist': item['track']['artists'][0]['name'],\n",
    "                'uri': song_uri,\n",
    "            }\n",
    "            \n",
    "            # for each feature add in track dict the key (column name) and the value\n",
    "            for feature_key, feature_value in features.items():\n",
    "                track[feature_key] = feature_value\n",
    "                \n",
    "            # Append each item in track\n",
    "            tracks.append(track)\n",
    "        \n",
    "        # Get the next page of results\n",
    "        playlist = sp.next(playlist)\n",
    "        \n",
    "        # Sleep for a random time between 1 and 3 seconds to avoid triggering rate limits\n",
    "        sleep_time = random.randint(1, 3)\n",
    "        time.sleep(sleep_time)\n",
    "    \n",
    "    # Return the results as a DataFrame\n",
    "    return pd.DataFrame(tracks)\n"
   ]
  },
  {
   "cell_type": "code",
   "execution_count": 34,
   "id": "0e811e46",
   "metadata": {},
   "outputs": [],
   "source": [
    "# Applying the function\n",
    "playlist1_df = create_playlist_dataframe(playlist1, sp)\n"
   ]
  },
  {
   "cell_type": "code",
   "execution_count": 35,
   "id": "83d7c29c",
   "metadata": {},
   "outputs": [
    {
     "data": {
      "text/html": [
       "<div>\n",
       "<style scoped>\n",
       "    .dataframe tbody tr th:only-of-type {\n",
       "        vertical-align: middle;\n",
       "    }\n",
       "\n",
       "    .dataframe tbody tr th {\n",
       "        vertical-align: top;\n",
       "    }\n",
       "\n",
       "    .dataframe thead th {\n",
       "        text-align: right;\n",
       "    }\n",
       "</style>\n",
       "<table border=\"1\" class=\"dataframe\">\n",
       "  <thead>\n",
       "    <tr style=\"text-align: right;\">\n",
       "      <th></th>\n",
       "      <th>title</th>\n",
       "      <th>artist</th>\n",
       "      <th>uri</th>\n",
       "      <th>danceability</th>\n",
       "      <th>energy</th>\n",
       "      <th>key</th>\n",
       "      <th>loudness</th>\n",
       "      <th>mode</th>\n",
       "      <th>speechiness</th>\n",
       "      <th>acousticness</th>\n",
       "      <th>instrumentalness</th>\n",
       "      <th>liveness</th>\n",
       "      <th>valence</th>\n",
       "      <th>tempo</th>\n",
       "      <th>type</th>\n",
       "      <th>id</th>\n",
       "      <th>track_href</th>\n",
       "      <th>analysis_url</th>\n",
       "      <th>duration_ms</th>\n",
       "      <th>time_signature</th>\n",
       "    </tr>\n",
       "  </thead>\n",
       "  <tbody>\n",
       "    <tr>\n",
       "      <th>0</th>\n",
       "      <td>Take Me To Church</td>\n",
       "      <td>Hozier</td>\n",
       "      <td>spotify:track:7dS5EaCoMnN7DzlpT6aRn2</td>\n",
       "      <td>0.566</td>\n",
       "      <td>0.664</td>\n",
       "      <td>4</td>\n",
       "      <td>-5.303</td>\n",
       "      <td>0</td>\n",
       "      <td>0.0464</td>\n",
       "      <td>0.6340</td>\n",
       "      <td>0.000000</td>\n",
       "      <td>0.116</td>\n",
       "      <td>0.437</td>\n",
       "      <td>128.945</td>\n",
       "      <td>audio_features</td>\n",
       "      <td>7dS5EaCoMnN7DzlpT6aRn2</td>\n",
       "      <td>https://api.spotify.com/v1/tracks/7dS5EaCoMnN7...</td>\n",
       "      <td>https://api.spotify.com/v1/audio-analysis/7dS5...</td>\n",
       "      <td>241688</td>\n",
       "      <td>4</td>\n",
       "    </tr>\n",
       "    <tr>\n",
       "      <th>1</th>\n",
       "      <td>Cooler Than Me - Single Mix</td>\n",
       "      <td>Mike Posner</td>\n",
       "      <td>spotify:track:2V4bv1fNWfTcyRJKmej6Sj</td>\n",
       "      <td>0.768</td>\n",
       "      <td>0.820</td>\n",
       "      <td>7</td>\n",
       "      <td>-4.630</td>\n",
       "      <td>0</td>\n",
       "      <td>0.0474</td>\n",
       "      <td>0.1790</td>\n",
       "      <td>0.000000</td>\n",
       "      <td>0.689</td>\n",
       "      <td>0.625</td>\n",
       "      <td>129.965</td>\n",
       "      <td>audio_features</td>\n",
       "      <td>2V4bv1fNWfTcyRJKmej6Sj</td>\n",
       "      <td>https://api.spotify.com/v1/tracks/2V4bv1fNWfTc...</td>\n",
       "      <td>https://api.spotify.com/v1/audio-analysis/2V4b...</td>\n",
       "      <td>213293</td>\n",
       "      <td>4</td>\n",
       "    </tr>\n",
       "    <tr>\n",
       "      <th>2</th>\n",
       "      <td>See You Again (feat. Kali Uchis)</td>\n",
       "      <td>Tyler, The Creator</td>\n",
       "      <td>spotify:track:7KA4W4McWYRpgf0fWsJZWB</td>\n",
       "      <td>0.558</td>\n",
       "      <td>0.559</td>\n",
       "      <td>6</td>\n",
       "      <td>-9.222</td>\n",
       "      <td>1</td>\n",
       "      <td>0.0959</td>\n",
       "      <td>0.3710</td>\n",
       "      <td>0.000007</td>\n",
       "      <td>0.109</td>\n",
       "      <td>0.620</td>\n",
       "      <td>78.558</td>\n",
       "      <td>audio_features</td>\n",
       "      <td>7KA4W4McWYRpgf0fWsJZWB</td>\n",
       "      <td>https://api.spotify.com/v1/tracks/7KA4W4McWYRp...</td>\n",
       "      <td>https://api.spotify.com/v1/audio-analysis/7KA4...</td>\n",
       "      <td>180387</td>\n",
       "      <td>4</td>\n",
       "    </tr>\n",
       "    <tr>\n",
       "      <th>3</th>\n",
       "      <td>Pompeii</td>\n",
       "      <td>Bastille</td>\n",
       "      <td>spotify:track:3gbBpTdY8lnQwqxNCcf795</td>\n",
       "      <td>0.679</td>\n",
       "      <td>0.715</td>\n",
       "      <td>9</td>\n",
       "      <td>-6.383</td>\n",
       "      <td>1</td>\n",
       "      <td>0.0407</td>\n",
       "      <td>0.0755</td>\n",
       "      <td>0.000000</td>\n",
       "      <td>0.271</td>\n",
       "      <td>0.571</td>\n",
       "      <td>127.435</td>\n",
       "      <td>audio_features</td>\n",
       "      <td>3gbBpTdY8lnQwqxNCcf795</td>\n",
       "      <td>https://api.spotify.com/v1/tracks/3gbBpTdY8lnQ...</td>\n",
       "      <td>https://api.spotify.com/v1/audio-analysis/3gbB...</td>\n",
       "      <td>214148</td>\n",
       "      <td>4</td>\n",
       "    </tr>\n",
       "    <tr>\n",
       "      <th>4</th>\n",
       "      <td>Hips Don't Lie (feat. Wyclef Jean)</td>\n",
       "      <td>Shakira</td>\n",
       "      <td>spotify:track:3ZFTkvIE7kyPt6Nu3PEa7V</td>\n",
       "      <td>0.778</td>\n",
       "      <td>0.824</td>\n",
       "      <td>10</td>\n",
       "      <td>-5.892</td>\n",
       "      <td>0</td>\n",
       "      <td>0.0707</td>\n",
       "      <td>0.2840</td>\n",
       "      <td>0.000000</td>\n",
       "      <td>0.405</td>\n",
       "      <td>0.758</td>\n",
       "      <td>100.024</td>\n",
       "      <td>audio_features</td>\n",
       "      <td>3ZFTkvIE7kyPt6Nu3PEa7V</td>\n",
       "      <td>https://api.spotify.com/v1/tracks/3ZFTkvIE7kyP...</td>\n",
       "      <td>https://api.spotify.com/v1/audio-analysis/3ZFT...</td>\n",
       "      <td>218093</td>\n",
       "      <td>4</td>\n",
       "    </tr>\n",
       "  </tbody>\n",
       "</table>\n",
       "</div>"
      ],
      "text/plain": [
       "                                title              artist  \\\n",
       "0                   Take Me To Church              Hozier   \n",
       "1         Cooler Than Me - Single Mix         Mike Posner   \n",
       "2    See You Again (feat. Kali Uchis)  Tyler, The Creator   \n",
       "3                             Pompeii            Bastille   \n",
       "4  Hips Don't Lie (feat. Wyclef Jean)             Shakira   \n",
       "\n",
       "                                    uri  danceability  energy  key  loudness  \\\n",
       "0  spotify:track:7dS5EaCoMnN7DzlpT6aRn2         0.566   0.664    4    -5.303   \n",
       "1  spotify:track:2V4bv1fNWfTcyRJKmej6Sj         0.768   0.820    7    -4.630   \n",
       "2  spotify:track:7KA4W4McWYRpgf0fWsJZWB         0.558   0.559    6    -9.222   \n",
       "3  spotify:track:3gbBpTdY8lnQwqxNCcf795         0.679   0.715    9    -6.383   \n",
       "4  spotify:track:3ZFTkvIE7kyPt6Nu3PEa7V         0.778   0.824   10    -5.892   \n",
       "\n",
       "   mode  speechiness  acousticness  instrumentalness  liveness  valence  \\\n",
       "0     0       0.0464        0.6340          0.000000     0.116    0.437   \n",
       "1     0       0.0474        0.1790          0.000000     0.689    0.625   \n",
       "2     1       0.0959        0.3710          0.000007     0.109    0.620   \n",
       "3     1       0.0407        0.0755          0.000000     0.271    0.571   \n",
       "4     0       0.0707        0.2840          0.000000     0.405    0.758   \n",
       "\n",
       "     tempo            type                      id  \\\n",
       "0  128.945  audio_features  7dS5EaCoMnN7DzlpT6aRn2   \n",
       "1  129.965  audio_features  2V4bv1fNWfTcyRJKmej6Sj   \n",
       "2   78.558  audio_features  7KA4W4McWYRpgf0fWsJZWB   \n",
       "3  127.435  audio_features  3gbBpTdY8lnQwqxNCcf795   \n",
       "4  100.024  audio_features  3ZFTkvIE7kyPt6Nu3PEa7V   \n",
       "\n",
       "                                          track_href  \\\n",
       "0  https://api.spotify.com/v1/tracks/7dS5EaCoMnN7...   \n",
       "1  https://api.spotify.com/v1/tracks/2V4bv1fNWfTc...   \n",
       "2  https://api.spotify.com/v1/tracks/7KA4W4McWYRp...   \n",
       "3  https://api.spotify.com/v1/tracks/3gbBpTdY8lnQ...   \n",
       "4  https://api.spotify.com/v1/tracks/3ZFTkvIE7kyP...   \n",
       "\n",
       "                                        analysis_url  duration_ms  \\\n",
       "0  https://api.spotify.com/v1/audio-analysis/7dS5...       241688   \n",
       "1  https://api.spotify.com/v1/audio-analysis/2V4b...       213293   \n",
       "2  https://api.spotify.com/v1/audio-analysis/7KA4...       180387   \n",
       "3  https://api.spotify.com/v1/audio-analysis/3gbB...       214148   \n",
       "4  https://api.spotify.com/v1/audio-analysis/3ZFT...       218093   \n",
       "\n",
       "   time_signature  \n",
       "0               4  \n",
       "1               4  \n",
       "2               4  \n",
       "3               4  \n",
       "4               4  "
      ]
     },
     "metadata": {},
     "output_type": "display_data"
    },
    {
     "data": {
      "text/plain": [
       "(5295, 20)"
      ]
     },
     "metadata": {},
     "output_type": "display_data"
    }
   ],
   "source": [
    "display(playlist1_df.head(5), playlist1_df.shape)\n"
   ]
  },
  {
   "cell_type": "code",
   "execution_count": 46,
   "id": "b88b0934",
   "metadata": {},
   "outputs": [],
   "source": [
    "# Applying the function\n",
    "playlist2_df = create_playlist_dataframe(playlist2, sp)\n"
   ]
  },
  {
   "cell_type": "code",
   "execution_count": 47,
   "id": "5198b0c2",
   "metadata": {
    "scrolled": true
   },
   "outputs": [
    {
     "data": {
      "text/html": [
       "<div>\n",
       "<style scoped>\n",
       "    .dataframe tbody tr th:only-of-type {\n",
       "        vertical-align: middle;\n",
       "    }\n",
       "\n",
       "    .dataframe tbody tr th {\n",
       "        vertical-align: top;\n",
       "    }\n",
       "\n",
       "    .dataframe thead th {\n",
       "        text-align: right;\n",
       "    }\n",
       "</style>\n",
       "<table border=\"1\" class=\"dataframe\">\n",
       "  <thead>\n",
       "    <tr style=\"text-align: right;\">\n",
       "      <th></th>\n",
       "      <th>title</th>\n",
       "      <th>artist</th>\n",
       "      <th>uri</th>\n",
       "      <th>danceability</th>\n",
       "      <th>energy</th>\n",
       "      <th>key</th>\n",
       "      <th>loudness</th>\n",
       "      <th>mode</th>\n",
       "      <th>speechiness</th>\n",
       "      <th>acousticness</th>\n",
       "      <th>instrumentalness</th>\n",
       "      <th>liveness</th>\n",
       "      <th>valence</th>\n",
       "      <th>tempo</th>\n",
       "      <th>type</th>\n",
       "      <th>id</th>\n",
       "      <th>track_href</th>\n",
       "      <th>analysis_url</th>\n",
       "      <th>duration_ms</th>\n",
       "      <th>time_signature</th>\n",
       "    </tr>\n",
       "  </thead>\n",
       "  <tbody>\n",
       "    <tr>\n",
       "      <th>0</th>\n",
       "      <td>By Your Hand</td>\n",
       "      <td>Los Campesinos!</td>\n",
       "      <td>spotify:track:14ANK7yt9bNguifv7flRdr</td>\n",
       "      <td>0.464</td>\n",
       "      <td>0.892</td>\n",
       "      <td>0</td>\n",
       "      <td>-5.850</td>\n",
       "      <td>0</td>\n",
       "      <td>0.0445</td>\n",
       "      <td>0.140000</td>\n",
       "      <td>0.000000</td>\n",
       "      <td>0.295</td>\n",
       "      <td>0.524</td>\n",
       "      <td>88.800</td>\n",
       "      <td>audio_features</td>\n",
       "      <td>14ANK7yt9bNguifv7flRdr</td>\n",
       "      <td>https://api.spotify.com/v1/tracks/14ANK7yt9bNg...</td>\n",
       "      <td>https://api.spotify.com/v1/audio-analysis/14AN...</td>\n",
       "      <td>248320</td>\n",
       "      <td>4</td>\n",
       "    </tr>\n",
       "    <tr>\n",
       "      <th>1</th>\n",
       "      <td>The Age Of The Understatement</td>\n",
       "      <td>The Last Shadow Puppets</td>\n",
       "      <td>spotify:track:1CNsYiv8VFt6oHoCyzWbnN</td>\n",
       "      <td>0.383</td>\n",
       "      <td>0.868</td>\n",
       "      <td>11</td>\n",
       "      <td>-6.222</td>\n",
       "      <td>0</td>\n",
       "      <td>0.0847</td>\n",
       "      <td>0.001140</td>\n",
       "      <td>0.000004</td>\n",
       "      <td>0.353</td>\n",
       "      <td>0.546</td>\n",
       "      <td>147.267</td>\n",
       "      <td>audio_features</td>\n",
       "      <td>1CNsYiv8VFt6oHoCyzWbnN</td>\n",
       "      <td>https://api.spotify.com/v1/tracks/1CNsYiv8VFt6...</td>\n",
       "      <td>https://api.spotify.com/v1/audio-analysis/1CNs...</td>\n",
       "      <td>189560</td>\n",
       "      <td>4</td>\n",
       "    </tr>\n",
       "    <tr>\n",
       "      <th>2</th>\n",
       "      <td>Geraldine</td>\n",
       "      <td>Glasvegas</td>\n",
       "      <td>spotify:track:75UqWU4Y0YdCB9MrnKZZnC</td>\n",
       "      <td>0.466</td>\n",
       "      <td>0.837</td>\n",
       "      <td>0</td>\n",
       "      <td>-3.752</td>\n",
       "      <td>1</td>\n",
       "      <td>0.0370</td>\n",
       "      <td>0.000348</td>\n",
       "      <td>0.000078</td>\n",
       "      <td>0.408</td>\n",
       "      <td>0.160</td>\n",
       "      <td>119.873</td>\n",
       "      <td>audio_features</td>\n",
       "      <td>75UqWU4Y0YdCB9MrnKZZnC</td>\n",
       "      <td>https://api.spotify.com/v1/tracks/75UqWU4Y0YdC...</td>\n",
       "      <td>https://api.spotify.com/v1/audio-analysis/75Uq...</td>\n",
       "      <td>225253</td>\n",
       "      <td>4</td>\n",
       "    </tr>\n",
       "    <tr>\n",
       "      <th>3</th>\n",
       "      <td>Hard To Beat</td>\n",
       "      <td>Hard-FI</td>\n",
       "      <td>spotify:track:0884teOFx7ZX80OWdR8nVp</td>\n",
       "      <td>0.557</td>\n",
       "      <td>0.849</td>\n",
       "      <td>10</td>\n",
       "      <td>-4.706</td>\n",
       "      <td>1</td>\n",
       "      <td>0.0736</td>\n",
       "      <td>0.001620</td>\n",
       "      <td>0.000005</td>\n",
       "      <td>0.217</td>\n",
       "      <td>0.775</td>\n",
       "      <td>125.243</td>\n",
       "      <td>audio_features</td>\n",
       "      <td>0884teOFx7ZX80OWdR8nVp</td>\n",
       "      <td>https://api.spotify.com/v1/tracks/0884teOFx7ZX...</td>\n",
       "      <td>https://api.spotify.com/v1/audio-analysis/0884...</td>\n",
       "      <td>254933</td>\n",
       "      <td>4</td>\n",
       "    </tr>\n",
       "    <tr>\n",
       "      <th>4</th>\n",
       "      <td>We Are The People</td>\n",
       "      <td>Empire of the Sun</td>\n",
       "      <td>spotify:track:1JqTcOjOn7gEpeC0JcRVPa</td>\n",
       "      <td>0.671</td>\n",
       "      <td>0.784</td>\n",
       "      <td>4</td>\n",
       "      <td>-5.514</td>\n",
       "      <td>0</td>\n",
       "      <td>0.0303</td>\n",
       "      <td>0.084200</td>\n",
       "      <td>0.012100</td>\n",
       "      <td>0.231</td>\n",
       "      <td>0.543</td>\n",
       "      <td>122.995</td>\n",
       "      <td>audio_features</td>\n",
       "      <td>1JqTcOjOn7gEpeC0JcRVPa</td>\n",
       "      <td>https://api.spotify.com/v1/tracks/1JqTcOjOn7gE...</td>\n",
       "      <td>https://api.spotify.com/v1/audio-analysis/1JqT...</td>\n",
       "      <td>272175</td>\n",
       "      <td>4</td>\n",
       "    </tr>\n",
       "  </tbody>\n",
       "</table>\n",
       "</div>"
      ],
      "text/plain": [
       "                           title                   artist  \\\n",
       "0                   By Your Hand          Los Campesinos!   \n",
       "1  The Age Of The Understatement  The Last Shadow Puppets   \n",
       "2                      Geraldine                Glasvegas   \n",
       "3                   Hard To Beat                  Hard-FI   \n",
       "4              We Are The People        Empire of the Sun   \n",
       "\n",
       "                                    uri  danceability  energy  key  loudness  \\\n",
       "0  spotify:track:14ANK7yt9bNguifv7flRdr         0.464   0.892    0    -5.850   \n",
       "1  spotify:track:1CNsYiv8VFt6oHoCyzWbnN         0.383   0.868   11    -6.222   \n",
       "2  spotify:track:75UqWU4Y0YdCB9MrnKZZnC         0.466   0.837    0    -3.752   \n",
       "3  spotify:track:0884teOFx7ZX80OWdR8nVp         0.557   0.849   10    -4.706   \n",
       "4  spotify:track:1JqTcOjOn7gEpeC0JcRVPa         0.671   0.784    4    -5.514   \n",
       "\n",
       "   mode  speechiness  acousticness  instrumentalness  liveness  valence  \\\n",
       "0     0       0.0445      0.140000          0.000000     0.295    0.524   \n",
       "1     0       0.0847      0.001140          0.000004     0.353    0.546   \n",
       "2     1       0.0370      0.000348          0.000078     0.408    0.160   \n",
       "3     1       0.0736      0.001620          0.000005     0.217    0.775   \n",
       "4     0       0.0303      0.084200          0.012100     0.231    0.543   \n",
       "\n",
       "     tempo            type                      id  \\\n",
       "0   88.800  audio_features  14ANK7yt9bNguifv7flRdr   \n",
       "1  147.267  audio_features  1CNsYiv8VFt6oHoCyzWbnN   \n",
       "2  119.873  audio_features  75UqWU4Y0YdCB9MrnKZZnC   \n",
       "3  125.243  audio_features  0884teOFx7ZX80OWdR8nVp   \n",
       "4  122.995  audio_features  1JqTcOjOn7gEpeC0JcRVPa   \n",
       "\n",
       "                                          track_href  \\\n",
       "0  https://api.spotify.com/v1/tracks/14ANK7yt9bNg...   \n",
       "1  https://api.spotify.com/v1/tracks/1CNsYiv8VFt6...   \n",
       "2  https://api.spotify.com/v1/tracks/75UqWU4Y0YdC...   \n",
       "3  https://api.spotify.com/v1/tracks/0884teOFx7ZX...   \n",
       "4  https://api.spotify.com/v1/tracks/1JqTcOjOn7gE...   \n",
       "\n",
       "                                        analysis_url  duration_ms  \\\n",
       "0  https://api.spotify.com/v1/audio-analysis/14AN...       248320   \n",
       "1  https://api.spotify.com/v1/audio-analysis/1CNs...       189560   \n",
       "2  https://api.spotify.com/v1/audio-analysis/75Uq...       225253   \n",
       "3  https://api.spotify.com/v1/audio-analysis/0884...       254933   \n",
       "4  https://api.spotify.com/v1/audio-analysis/1JqT...       272175   \n",
       "\n",
       "   time_signature  \n",
       "0               4  \n",
       "1               4  \n",
       "2               4  \n",
       "3               4  \n",
       "4               4  "
      ]
     },
     "metadata": {},
     "output_type": "display_data"
    },
    {
     "data": {
      "text/plain": [
       "(18, 20)"
      ]
     },
     "metadata": {},
     "output_type": "display_data"
    }
   ],
   "source": [
    "display(playlist2_df.head(5), playlist2_df.shape)\n"
   ]
  },
  {
   "cell_type": "code",
   "execution_count": 75,
   "id": "c4afd87a",
   "metadata": {},
   "outputs": [],
   "source": [
    "playlist3_df = create_playlist_dataframe(playlist3, sp)\n"
   ]
  },
  {
   "cell_type": "code",
   "execution_count": 76,
   "id": "3fbd3981",
   "metadata": {},
   "outputs": [
    {
     "data": {
      "text/html": [
       "<div>\n",
       "<style scoped>\n",
       "    .dataframe tbody tr th:only-of-type {\n",
       "        vertical-align: middle;\n",
       "    }\n",
       "\n",
       "    .dataframe tbody tr th {\n",
       "        vertical-align: top;\n",
       "    }\n",
       "\n",
       "    .dataframe thead th {\n",
       "        text-align: right;\n",
       "    }\n",
       "</style>\n",
       "<table border=\"1\" class=\"dataframe\">\n",
       "  <thead>\n",
       "    <tr style=\"text-align: right;\">\n",
       "      <th></th>\n",
       "      <th>title</th>\n",
       "      <th>artist</th>\n",
       "      <th>uri</th>\n",
       "      <th>danceability</th>\n",
       "      <th>energy</th>\n",
       "      <th>key</th>\n",
       "      <th>loudness</th>\n",
       "      <th>mode</th>\n",
       "      <th>speechiness</th>\n",
       "      <th>acousticness</th>\n",
       "      <th>instrumentalness</th>\n",
       "      <th>liveness</th>\n",
       "      <th>valence</th>\n",
       "      <th>tempo</th>\n",
       "      <th>type</th>\n",
       "      <th>id</th>\n",
       "      <th>track_href</th>\n",
       "      <th>analysis_url</th>\n",
       "      <th>duration_ms</th>\n",
       "      <th>time_signature</th>\n",
       "    </tr>\n",
       "  </thead>\n",
       "  <tbody>\n",
       "    <tr>\n",
       "      <th>0</th>\n",
       "      <td>Rhapsody in Blue</td>\n",
       "      <td>George Gershwin</td>\n",
       "      <td>spotify:track:0yzhOPf0iw2qWwcXRRta5L</td>\n",
       "      <td>0.309</td>\n",
       "      <td>0.258</td>\n",
       "      <td>9</td>\n",
       "      <td>-15.327</td>\n",
       "      <td>1</td>\n",
       "      <td>0.0459</td>\n",
       "      <td>0.976</td>\n",
       "      <td>0.690000</td>\n",
       "      <td>0.0924</td>\n",
       "      <td>0.115</td>\n",
       "      <td>74.568</td>\n",
       "      <td>audio_features</td>\n",
       "      <td>0yzhOPf0iw2qWwcXRRta5L</td>\n",
       "      <td>https://api.spotify.com/v1/tracks/0yzhOPf0iw2q...</td>\n",
       "      <td>https://api.spotify.com/v1/audio-analysis/0yzh...</td>\n",
       "      <td>890000</td>\n",
       "      <td>4</td>\n",
       "    </tr>\n",
       "    <tr>\n",
       "      <th>1</th>\n",
       "      <td>Summertime</td>\n",
       "      <td>Billie Holiday</td>\n",
       "      <td>spotify:track:62Xj6x2LSWv47PtRAXrg5Z</td>\n",
       "      <td>0.628</td>\n",
       "      <td>0.226</td>\n",
       "      <td>10</td>\n",
       "      <td>-14.075</td>\n",
       "      <td>0</td>\n",
       "      <td>0.0371</td>\n",
       "      <td>0.903</td>\n",
       "      <td>0.000006</td>\n",
       "      <td>0.1710</td>\n",
       "      <td>0.608</td>\n",
       "      <td>99.392</td>\n",
       "      <td>audio_features</td>\n",
       "      <td>62Xj6x2LSWv47PtRAXrg5Z</td>\n",
       "      <td>https://api.spotify.com/v1/tracks/62Xj6x2LSWv4...</td>\n",
       "      <td>https://api.spotify.com/v1/audio-analysis/62Xj...</td>\n",
       "      <td>173493</td>\n",
       "      <td>4</td>\n",
       "    </tr>\n",
       "    <tr>\n",
       "      <th>2</th>\n",
       "      <td>Moonlight Serenade - 2005 Remastered Version</td>\n",
       "      <td>Glenn Miller</td>\n",
       "      <td>spotify:track:3HRMOZk689zaR3z6NpEdfu</td>\n",
       "      <td>0.228</td>\n",
       "      <td>0.263</td>\n",
       "      <td>3</td>\n",
       "      <td>-10.120</td>\n",
       "      <td>1</td>\n",
       "      <td>0.0275</td>\n",
       "      <td>0.896</td>\n",
       "      <td>0.317000</td>\n",
       "      <td>0.1030</td>\n",
       "      <td>0.224</td>\n",
       "      <td>83.903</td>\n",
       "      <td>audio_features</td>\n",
       "      <td>3HRMOZk689zaR3z6NpEdfu</td>\n",
       "      <td>https://api.spotify.com/v1/tracks/3HRMOZk689za...</td>\n",
       "      <td>https://api.spotify.com/v1/audio-analysis/3HRM...</td>\n",
       "      <td>204240</td>\n",
       "      <td>4</td>\n",
       "    </tr>\n",
       "    <tr>\n",
       "      <th>3</th>\n",
       "      <td>In the Mood - Live</td>\n",
       "      <td>Glenn Miller</td>\n",
       "      <td>spotify:track:54h1RKrrFJDsNOfhwmqu9o</td>\n",
       "      <td>0.463</td>\n",
       "      <td>0.654</td>\n",
       "      <td>8</td>\n",
       "      <td>-9.720</td>\n",
       "      <td>1</td>\n",
       "      <td>0.0659</td>\n",
       "      <td>0.824</td>\n",
       "      <td>0.917000</td>\n",
       "      <td>0.3720</td>\n",
       "      <td>0.592</td>\n",
       "      <td>175.204</td>\n",
       "      <td>audio_features</td>\n",
       "      <td>54h1RKrrFJDsNOfhwmqu9o</td>\n",
       "      <td>https://api.spotify.com/v1/tracks/54h1RKrrFJDs...</td>\n",
       "      <td>https://api.spotify.com/v1/audio-analysis/54h1...</td>\n",
       "      <td>209573</td>\n",
       "      <td>4</td>\n",
       "    </tr>\n",
       "    <tr>\n",
       "      <th>4</th>\n",
       "      <td>Take the \"A\" Train</td>\n",
       "      <td>Duke Ellington</td>\n",
       "      <td>spotify:track:6KBsivP3Of4z2x6uNMAyE3</td>\n",
       "      <td>0.479</td>\n",
       "      <td>0.318</td>\n",
       "      <td>0</td>\n",
       "      <td>-13.836</td>\n",
       "      <td>1</td>\n",
       "      <td>0.0395</td>\n",
       "      <td>0.278</td>\n",
       "      <td>0.095900</td>\n",
       "      <td>0.1070</td>\n",
       "      <td>0.575</td>\n",
       "      <td>94.036</td>\n",
       "      <td>audio_features</td>\n",
       "      <td>6KBsivP3Of4z2x6uNMAyE3</td>\n",
       "      <td>https://api.spotify.com/v1/tracks/6KBsivP3Of4z...</td>\n",
       "      <td>https://api.spotify.com/v1/audio-analysis/6KBs...</td>\n",
       "      <td>331800</td>\n",
       "      <td>4</td>\n",
       "    </tr>\n",
       "  </tbody>\n",
       "</table>\n",
       "</div>"
      ],
      "text/plain": [
       "                                          title           artist  \\\n",
       "0                              Rhapsody in Blue  George Gershwin   \n",
       "1                                    Summertime   Billie Holiday   \n",
       "2  Moonlight Serenade - 2005 Remastered Version     Glenn Miller   \n",
       "3                            In the Mood - Live     Glenn Miller   \n",
       "4                            Take the \"A\" Train   Duke Ellington   \n",
       "\n",
       "                                    uri  danceability  energy  key  loudness  \\\n",
       "0  spotify:track:0yzhOPf0iw2qWwcXRRta5L         0.309   0.258    9   -15.327   \n",
       "1  spotify:track:62Xj6x2LSWv47PtRAXrg5Z         0.628   0.226   10   -14.075   \n",
       "2  spotify:track:3HRMOZk689zaR3z6NpEdfu         0.228   0.263    3   -10.120   \n",
       "3  spotify:track:54h1RKrrFJDsNOfhwmqu9o         0.463   0.654    8    -9.720   \n",
       "4  spotify:track:6KBsivP3Of4z2x6uNMAyE3         0.479   0.318    0   -13.836   \n",
       "\n",
       "   mode  speechiness  acousticness  instrumentalness  liveness  valence  \\\n",
       "0     1       0.0459         0.976          0.690000    0.0924    0.115   \n",
       "1     0       0.0371         0.903          0.000006    0.1710    0.608   \n",
       "2     1       0.0275         0.896          0.317000    0.1030    0.224   \n",
       "3     1       0.0659         0.824          0.917000    0.3720    0.592   \n",
       "4     1       0.0395         0.278          0.095900    0.1070    0.575   \n",
       "\n",
       "     tempo            type                      id  \\\n",
       "0   74.568  audio_features  0yzhOPf0iw2qWwcXRRta5L   \n",
       "1   99.392  audio_features  62Xj6x2LSWv47PtRAXrg5Z   \n",
       "2   83.903  audio_features  3HRMOZk689zaR3z6NpEdfu   \n",
       "3  175.204  audio_features  54h1RKrrFJDsNOfhwmqu9o   \n",
       "4   94.036  audio_features  6KBsivP3Of4z2x6uNMAyE3   \n",
       "\n",
       "                                          track_href  \\\n",
       "0  https://api.spotify.com/v1/tracks/0yzhOPf0iw2q...   \n",
       "1  https://api.spotify.com/v1/tracks/62Xj6x2LSWv4...   \n",
       "2  https://api.spotify.com/v1/tracks/3HRMOZk689za...   \n",
       "3  https://api.spotify.com/v1/tracks/54h1RKrrFJDs...   \n",
       "4  https://api.spotify.com/v1/tracks/6KBsivP3Of4z...   \n",
       "\n",
       "                                        analysis_url  duration_ms  \\\n",
       "0  https://api.spotify.com/v1/audio-analysis/0yzh...       890000   \n",
       "1  https://api.spotify.com/v1/audio-analysis/62Xj...       173493   \n",
       "2  https://api.spotify.com/v1/audio-analysis/3HRM...       204240   \n",
       "3  https://api.spotify.com/v1/audio-analysis/54h1...       209573   \n",
       "4  https://api.spotify.com/v1/audio-analysis/6KBs...       331800   \n",
       "\n",
       "   time_signature  \n",
       "0               4  \n",
       "1               4  \n",
       "2               4  \n",
       "3               4  \n",
       "4               4  "
      ]
     },
     "metadata": {},
     "output_type": "display_data"
    },
    {
     "data": {
      "text/plain": [
       "(2705, 20)"
      ]
     },
     "metadata": {},
     "output_type": "display_data"
    }
   ],
   "source": [
    "display(playlist3_df.head(5), playlist3_df.shape)\n"
   ]
  },
  {
   "cell_type": "code",
   "execution_count": 77,
   "id": "5c726ad9",
   "metadata": {},
   "outputs": [],
   "source": [
    "playlist4_df = create_playlist_dataframe(playlist4, sp)\n"
   ]
  },
  {
   "cell_type": "code",
   "execution_count": 78,
   "id": "7aefcd9b",
   "metadata": {},
   "outputs": [
    {
     "data": {
      "text/html": [
       "<div>\n",
       "<style scoped>\n",
       "    .dataframe tbody tr th:only-of-type {\n",
       "        vertical-align: middle;\n",
       "    }\n",
       "\n",
       "    .dataframe tbody tr th {\n",
       "        vertical-align: top;\n",
       "    }\n",
       "\n",
       "    .dataframe thead th {\n",
       "        text-align: right;\n",
       "    }\n",
       "</style>\n",
       "<table border=\"1\" class=\"dataframe\">\n",
       "  <thead>\n",
       "    <tr style=\"text-align: right;\">\n",
       "      <th></th>\n",
       "      <th>title</th>\n",
       "      <th>artist</th>\n",
       "      <th>uri</th>\n",
       "      <th>danceability</th>\n",
       "      <th>energy</th>\n",
       "      <th>key</th>\n",
       "      <th>loudness</th>\n",
       "      <th>mode</th>\n",
       "      <th>speechiness</th>\n",
       "      <th>acousticness</th>\n",
       "      <th>instrumentalness</th>\n",
       "      <th>liveness</th>\n",
       "      <th>valence</th>\n",
       "      <th>tempo</th>\n",
       "      <th>type</th>\n",
       "      <th>id</th>\n",
       "      <th>track_href</th>\n",
       "      <th>analysis_url</th>\n",
       "      <th>duration_ms</th>\n",
       "      <th>time_signature</th>\n",
       "    </tr>\n",
       "  </thead>\n",
       "  <tbody>\n",
       "    <tr>\n",
       "      <th>0</th>\n",
       "      <td>Angie - Remastered 2009</td>\n",
       "      <td>The Rolling Stones</td>\n",
       "      <td>spotify:track:35RUp1t6MVhcG8cOK5BH6x</td>\n",
       "      <td>0.429</td>\n",
       "      <td>0.548</td>\n",
       "      <td>9</td>\n",
       "      <td>-6.017</td>\n",
       "      <td>0</td>\n",
       "      <td>0.0294</td>\n",
       "      <td>0.7000</td>\n",
       "      <td>0.000075</td>\n",
       "      <td>0.0836</td>\n",
       "      <td>0.383</td>\n",
       "      <td>138.619</td>\n",
       "      <td>audio_features</td>\n",
       "      <td>35RUp1t6MVhcG8cOK5BH6x</td>\n",
       "      <td>https://api.spotify.com/v1/tracks/35RUp1t6MVhc...</td>\n",
       "      <td>https://api.spotify.com/v1/audio-analysis/35RU...</td>\n",
       "      <td>271973</td>\n",
       "      <td>4</td>\n",
       "    </tr>\n",
       "    <tr>\n",
       "      <th>1</th>\n",
       "      <td>Billie Jean</td>\n",
       "      <td>Michael Jackson</td>\n",
       "      <td>spotify:track:5ChkMS8OtdzJeqyybCc9R5</td>\n",
       "      <td>0.920</td>\n",
       "      <td>0.654</td>\n",
       "      <td>11</td>\n",
       "      <td>-3.051</td>\n",
       "      <td>0</td>\n",
       "      <td>0.0401</td>\n",
       "      <td>0.0236</td>\n",
       "      <td>0.015300</td>\n",
       "      <td>0.0360</td>\n",
       "      <td>0.847</td>\n",
       "      <td>117.046</td>\n",
       "      <td>audio_features</td>\n",
       "      <td>5ChkMS8OtdzJeqyybCc9R5</td>\n",
       "      <td>https://api.spotify.com/v1/tracks/5ChkMS8OtdzJ...</td>\n",
       "      <td>https://api.spotify.com/v1/audio-analysis/5Chk...</td>\n",
       "      <td>293827</td>\n",
       "      <td>4</td>\n",
       "    </tr>\n",
       "    <tr>\n",
       "      <th>2</th>\n",
       "      <td>Hey Jude - Remastered 2015</td>\n",
       "      <td>The Beatles</td>\n",
       "      <td>spotify:track:0aym2LBJBk9DAYuHHutrIl</td>\n",
       "      <td>0.386</td>\n",
       "      <td>0.607</td>\n",
       "      <td>10</td>\n",
       "      <td>-7.700</td>\n",
       "      <td>1</td>\n",
       "      <td>0.0261</td>\n",
       "      <td>0.0112</td>\n",
       "      <td>0.000014</td>\n",
       "      <td>0.0880</td>\n",
       "      <td>0.532</td>\n",
       "      <td>147.207</td>\n",
       "      <td>audio_features</td>\n",
       "      <td>0aym2LBJBk9DAYuHHutrIl</td>\n",
       "      <td>https://api.spotify.com/v1/tracks/0aym2LBJBk9D...</td>\n",
       "      <td>https://api.spotify.com/v1/audio-analysis/0aym...</td>\n",
       "      <td>425653</td>\n",
       "      <td>4</td>\n",
       "    </tr>\n",
       "    <tr>\n",
       "      <th>3</th>\n",
       "      <td>Purple Rain</td>\n",
       "      <td>Prince</td>\n",
       "      <td>spotify:track:3lUjT0JcV1PcuugwMl2MQj</td>\n",
       "      <td>0.367</td>\n",
       "      <td>0.452</td>\n",
       "      <td>10</td>\n",
       "      <td>-10.422</td>\n",
       "      <td>1</td>\n",
       "      <td>0.0307</td>\n",
       "      <td>0.0353</td>\n",
       "      <td>0.002280</td>\n",
       "      <td>0.6890</td>\n",
       "      <td>0.189</td>\n",
       "      <td>113.066</td>\n",
       "      <td>audio_features</td>\n",
       "      <td>3lUjT0JcV1PcuugwMl2MQj</td>\n",
       "      <td>https://api.spotify.com/v1/tracks/3lUjT0JcV1Pc...</td>\n",
       "      <td>https://api.spotify.com/v1/audio-analysis/3lUj...</td>\n",
       "      <td>520787</td>\n",
       "      <td>4</td>\n",
       "    </tr>\n",
       "    <tr>\n",
       "      <th>4</th>\n",
       "      <td>I Heard It Through The Grapevine - Single Vers...</td>\n",
       "      <td>Marvin Gaye</td>\n",
       "      <td>spotify:track:6ca3m7gXDEfgLop4A51mWt</td>\n",
       "      <td>0.722</td>\n",
       "      <td>0.450</td>\n",
       "      <td>3</td>\n",
       "      <td>-7.503</td>\n",
       "      <td>0</td>\n",
       "      <td>0.0396</td>\n",
       "      <td>0.1990</td>\n",
       "      <td>0.000003</td>\n",
       "      <td>0.0739</td>\n",
       "      <td>0.664</td>\n",
       "      <td>118.447</td>\n",
       "      <td>audio_features</td>\n",
       "      <td>6ca3m7gXDEfgLop4A51mWt</td>\n",
       "      <td>https://api.spotify.com/v1/tracks/6ca3m7gXDEfg...</td>\n",
       "      <td>https://api.spotify.com/v1/audio-analysis/6ca3...</td>\n",
       "      <td>192267</td>\n",
       "      <td>4</td>\n",
       "    </tr>\n",
       "  </tbody>\n",
       "</table>\n",
       "</div>"
      ],
      "text/plain": [
       "                                               title              artist  \\\n",
       "0                            Angie - Remastered 2009  The Rolling Stones   \n",
       "1                                        Billie Jean     Michael Jackson   \n",
       "2                         Hey Jude - Remastered 2015         The Beatles   \n",
       "3                                        Purple Rain              Prince   \n",
       "4  I Heard It Through The Grapevine - Single Vers...         Marvin Gaye   \n",
       "\n",
       "                                    uri  danceability  energy  key  loudness  \\\n",
       "0  spotify:track:35RUp1t6MVhcG8cOK5BH6x         0.429   0.548    9    -6.017   \n",
       "1  spotify:track:5ChkMS8OtdzJeqyybCc9R5         0.920   0.654   11    -3.051   \n",
       "2  spotify:track:0aym2LBJBk9DAYuHHutrIl         0.386   0.607   10    -7.700   \n",
       "3  spotify:track:3lUjT0JcV1PcuugwMl2MQj         0.367   0.452   10   -10.422   \n",
       "4  spotify:track:6ca3m7gXDEfgLop4A51mWt         0.722   0.450    3    -7.503   \n",
       "\n",
       "   mode  speechiness  acousticness  instrumentalness  liveness  valence  \\\n",
       "0     0       0.0294        0.7000          0.000075    0.0836    0.383   \n",
       "1     0       0.0401        0.0236          0.015300    0.0360    0.847   \n",
       "2     1       0.0261        0.0112          0.000014    0.0880    0.532   \n",
       "3     1       0.0307        0.0353          0.002280    0.6890    0.189   \n",
       "4     0       0.0396        0.1990          0.000003    0.0739    0.664   \n",
       "\n",
       "     tempo            type                      id  \\\n",
       "0  138.619  audio_features  35RUp1t6MVhcG8cOK5BH6x   \n",
       "1  117.046  audio_features  5ChkMS8OtdzJeqyybCc9R5   \n",
       "2  147.207  audio_features  0aym2LBJBk9DAYuHHutrIl   \n",
       "3  113.066  audio_features  3lUjT0JcV1PcuugwMl2MQj   \n",
       "4  118.447  audio_features  6ca3m7gXDEfgLop4A51mWt   \n",
       "\n",
       "                                          track_href  \\\n",
       "0  https://api.spotify.com/v1/tracks/35RUp1t6MVhc...   \n",
       "1  https://api.spotify.com/v1/tracks/5ChkMS8OtdzJ...   \n",
       "2  https://api.spotify.com/v1/tracks/0aym2LBJBk9D...   \n",
       "3  https://api.spotify.com/v1/tracks/3lUjT0JcV1Pc...   \n",
       "4  https://api.spotify.com/v1/tracks/6ca3m7gXDEfg...   \n",
       "\n",
       "                                        analysis_url  duration_ms  \\\n",
       "0  https://api.spotify.com/v1/audio-analysis/35RU...       271973   \n",
       "1  https://api.spotify.com/v1/audio-analysis/5Chk...       293827   \n",
       "2  https://api.spotify.com/v1/audio-analysis/0aym...       425653   \n",
       "3  https://api.spotify.com/v1/audio-analysis/3lUj...       520787   \n",
       "4  https://api.spotify.com/v1/audio-analysis/6ca3...       192267   \n",
       "\n",
       "   time_signature  \n",
       "0               4  \n",
       "1               4  \n",
       "2               4  \n",
       "3               4  \n",
       "4               4  "
      ]
     },
     "metadata": {},
     "output_type": "display_data"
    },
    {
     "data": {
      "text/plain": [
       "(3318, 20)"
      ]
     },
     "metadata": {},
     "output_type": "display_data"
    }
   ],
   "source": [
    "display(playlist4_df.head(5), playlist4_df.shape)\n"
   ]
  },
  {
   "cell_type": "code",
   "execution_count": 79,
   "id": "1d062343",
   "metadata": {},
   "outputs": [],
   "source": [
    "# Checking if df are ready for concatenation\n"
   ]
  },
  {
   "cell_type": "code",
   "execution_count": 80,
   "id": "f12a7bb2",
   "metadata": {},
   "outputs": [],
   "source": [
    "df_list = [\"playlist1_df\",\"playlist2_df\",\"playlist3_df\",\"playlist4_df\"]\n"
   ]
  },
  {
   "cell_type": "code",
   "execution_count": 81,
   "id": "e4bb5aad",
   "metadata": {},
   "outputs": [
    {
     "data": {
      "text/plain": [
       "array([ True,  True,  True,  True,  True,  True,  True,  True,  True,\n",
       "        True,  True,  True,  True,  True,  True,  True,  True,  True,\n",
       "        True,  True])"
      ]
     },
     "metadata": {},
     "output_type": "display_data"
    },
    {
     "data": {
      "text/plain": [
       "array([ True,  True,  True,  True,  True,  True,  True,  True,  True,\n",
       "        True,  True,  True,  True,  True,  True,  True,  True,  True,\n",
       "        True,  True])"
      ]
     },
     "metadata": {},
     "output_type": "display_data"
    },
    {
     "data": {
      "text/plain": [
       "array([ True,  True,  True,  True,  True,  True,  True,  True,  True,\n",
       "        True,  True,  True,  True,  True,  True,  True,  True,  True,\n",
       "        True,  True])"
      ]
     },
     "metadata": {},
     "output_type": "display_data"
    }
   ],
   "source": [
    "# Checking same names and order for each dataframe's columns\n",
    "display(playlist1_df.columns == playlist2_df.columns, playlist1_df.columns == playlist3_df.columns, playlist1_df.columns == playlist4_df.columns)\n",
    "    \n"
   ]
  },
  {
   "cell_type": "code",
   "execution_count": 82,
   "id": "ac7337d9",
   "metadata": {},
   "outputs": [
    {
     "data": {
      "text/plain": [
       "(5295, 20)"
      ]
     },
     "metadata": {},
     "output_type": "display_data"
    },
    {
     "data": {
      "text/plain": [
       "(18, 20)"
      ]
     },
     "metadata": {},
     "output_type": "display_data"
    },
    {
     "data": {
      "text/plain": [
       "(2705, 20)"
      ]
     },
     "metadata": {},
     "output_type": "display_data"
    },
    {
     "data": {
      "text/plain": [
       "(3318, 20)"
      ]
     },
     "metadata": {},
     "output_type": "display_data"
    }
   ],
   "source": [
    "# Information about their shape\n",
    "display(playlist1_df.shape, playlist2_df.shape, playlist3_df.shape, playlist4_df.shape)\n"
   ]
  },
  {
   "cell_type": "code",
   "execution_count": 84,
   "id": "dba6d692",
   "metadata": {},
   "outputs": [],
   "source": [
    "# Concatenating in axis=0 (rows)\n",
    "spotify_data = pd.concat([playlist1_df, playlist2_df, playlist3_df, playlist4_df], axis = 0) \n"
   ]
  },
  {
   "cell_type": "code",
   "execution_count": 85,
   "id": "f2d674f4",
   "metadata": {},
   "outputs": [],
   "source": [
    "spotify_data = spotify_data.reset_index(drop=True)\n"
   ]
  },
  {
   "cell_type": "code",
   "execution_count": 86,
   "id": "88eb90e0",
   "metadata": {},
   "outputs": [
    {
     "data": {
      "text/html": [
       "<div>\n",
       "<style scoped>\n",
       "    .dataframe tbody tr th:only-of-type {\n",
       "        vertical-align: middle;\n",
       "    }\n",
       "\n",
       "    .dataframe tbody tr th {\n",
       "        vertical-align: top;\n",
       "    }\n",
       "\n",
       "    .dataframe thead th {\n",
       "        text-align: right;\n",
       "    }\n",
       "</style>\n",
       "<table border=\"1\" class=\"dataframe\">\n",
       "  <thead>\n",
       "    <tr style=\"text-align: right;\">\n",
       "      <th></th>\n",
       "      <th>title</th>\n",
       "      <th>artist</th>\n",
       "      <th>uri</th>\n",
       "      <th>danceability</th>\n",
       "      <th>energy</th>\n",
       "      <th>key</th>\n",
       "      <th>loudness</th>\n",
       "      <th>mode</th>\n",
       "      <th>speechiness</th>\n",
       "      <th>acousticness</th>\n",
       "      <th>instrumentalness</th>\n",
       "      <th>liveness</th>\n",
       "      <th>valence</th>\n",
       "      <th>tempo</th>\n",
       "      <th>type</th>\n",
       "      <th>id</th>\n",
       "      <th>track_href</th>\n",
       "      <th>analysis_url</th>\n",
       "      <th>duration_ms</th>\n",
       "      <th>time_signature</th>\n",
       "    </tr>\n",
       "  </thead>\n",
       "  <tbody>\n",
       "    <tr>\n",
       "      <th>0</th>\n",
       "      <td>Take Me To Church</td>\n",
       "      <td>Hozier</td>\n",
       "      <td>spotify:track:7dS5EaCoMnN7DzlpT6aRn2</td>\n",
       "      <td>0.566</td>\n",
       "      <td>0.664</td>\n",
       "      <td>4</td>\n",
       "      <td>-5.303</td>\n",
       "      <td>0</td>\n",
       "      <td>0.0464</td>\n",
       "      <td>0.6340</td>\n",
       "      <td>0.000000</td>\n",
       "      <td>0.116</td>\n",
       "      <td>0.437</td>\n",
       "      <td>128.945</td>\n",
       "      <td>audio_features</td>\n",
       "      <td>7dS5EaCoMnN7DzlpT6aRn2</td>\n",
       "      <td>https://api.spotify.com/v1/tracks/7dS5EaCoMnN7...</td>\n",
       "      <td>https://api.spotify.com/v1/audio-analysis/7dS5...</td>\n",
       "      <td>241688</td>\n",
       "      <td>4</td>\n",
       "    </tr>\n",
       "    <tr>\n",
       "      <th>1</th>\n",
       "      <td>Cooler Than Me - Single Mix</td>\n",
       "      <td>Mike Posner</td>\n",
       "      <td>spotify:track:2V4bv1fNWfTcyRJKmej6Sj</td>\n",
       "      <td>0.768</td>\n",
       "      <td>0.820</td>\n",
       "      <td>7</td>\n",
       "      <td>-4.630</td>\n",
       "      <td>0</td>\n",
       "      <td>0.0474</td>\n",
       "      <td>0.1790</td>\n",
       "      <td>0.000000</td>\n",
       "      <td>0.689</td>\n",
       "      <td>0.625</td>\n",
       "      <td>129.965</td>\n",
       "      <td>audio_features</td>\n",
       "      <td>2V4bv1fNWfTcyRJKmej6Sj</td>\n",
       "      <td>https://api.spotify.com/v1/tracks/2V4bv1fNWfTc...</td>\n",
       "      <td>https://api.spotify.com/v1/audio-analysis/2V4b...</td>\n",
       "      <td>213293</td>\n",
       "      <td>4</td>\n",
       "    </tr>\n",
       "    <tr>\n",
       "      <th>2</th>\n",
       "      <td>See You Again (feat. Kali Uchis)</td>\n",
       "      <td>Tyler, The Creator</td>\n",
       "      <td>spotify:track:7KA4W4McWYRpgf0fWsJZWB</td>\n",
       "      <td>0.558</td>\n",
       "      <td>0.559</td>\n",
       "      <td>6</td>\n",
       "      <td>-9.222</td>\n",
       "      <td>1</td>\n",
       "      <td>0.0959</td>\n",
       "      <td>0.3710</td>\n",
       "      <td>0.000007</td>\n",
       "      <td>0.109</td>\n",
       "      <td>0.620</td>\n",
       "      <td>78.558</td>\n",
       "      <td>audio_features</td>\n",
       "      <td>7KA4W4McWYRpgf0fWsJZWB</td>\n",
       "      <td>https://api.spotify.com/v1/tracks/7KA4W4McWYRp...</td>\n",
       "      <td>https://api.spotify.com/v1/audio-analysis/7KA4...</td>\n",
       "      <td>180387</td>\n",
       "      <td>4</td>\n",
       "    </tr>\n",
       "    <tr>\n",
       "      <th>3</th>\n",
       "      <td>Pompeii</td>\n",
       "      <td>Bastille</td>\n",
       "      <td>spotify:track:3gbBpTdY8lnQwqxNCcf795</td>\n",
       "      <td>0.679</td>\n",
       "      <td>0.715</td>\n",
       "      <td>9</td>\n",
       "      <td>-6.383</td>\n",
       "      <td>1</td>\n",
       "      <td>0.0407</td>\n",
       "      <td>0.0755</td>\n",
       "      <td>0.000000</td>\n",
       "      <td>0.271</td>\n",
       "      <td>0.571</td>\n",
       "      <td>127.435</td>\n",
       "      <td>audio_features</td>\n",
       "      <td>3gbBpTdY8lnQwqxNCcf795</td>\n",
       "      <td>https://api.spotify.com/v1/tracks/3gbBpTdY8lnQ...</td>\n",
       "      <td>https://api.spotify.com/v1/audio-analysis/3gbB...</td>\n",
       "      <td>214148</td>\n",
       "      <td>4</td>\n",
       "    </tr>\n",
       "    <tr>\n",
       "      <th>4</th>\n",
       "      <td>Hips Don't Lie (feat. Wyclef Jean)</td>\n",
       "      <td>Shakira</td>\n",
       "      <td>spotify:track:3ZFTkvIE7kyPt6Nu3PEa7V</td>\n",
       "      <td>0.778</td>\n",
       "      <td>0.824</td>\n",
       "      <td>10</td>\n",
       "      <td>-5.892</td>\n",
       "      <td>0</td>\n",
       "      <td>0.0707</td>\n",
       "      <td>0.2840</td>\n",
       "      <td>0.000000</td>\n",
       "      <td>0.405</td>\n",
       "      <td>0.758</td>\n",
       "      <td>100.024</td>\n",
       "      <td>audio_features</td>\n",
       "      <td>3ZFTkvIE7kyPt6Nu3PEa7V</td>\n",
       "      <td>https://api.spotify.com/v1/tracks/3ZFTkvIE7kyP...</td>\n",
       "      <td>https://api.spotify.com/v1/audio-analysis/3ZFT...</td>\n",
       "      <td>218093</td>\n",
       "      <td>4</td>\n",
       "    </tr>\n",
       "  </tbody>\n",
       "</table>\n",
       "</div>"
      ],
      "text/plain": [
       "                                title              artist  \\\n",
       "0                   Take Me To Church              Hozier   \n",
       "1         Cooler Than Me - Single Mix         Mike Posner   \n",
       "2    See You Again (feat. Kali Uchis)  Tyler, The Creator   \n",
       "3                             Pompeii            Bastille   \n",
       "4  Hips Don't Lie (feat. Wyclef Jean)             Shakira   \n",
       "\n",
       "                                    uri  danceability  energy  key  loudness  \\\n",
       "0  spotify:track:7dS5EaCoMnN7DzlpT6aRn2         0.566   0.664    4    -5.303   \n",
       "1  spotify:track:2V4bv1fNWfTcyRJKmej6Sj         0.768   0.820    7    -4.630   \n",
       "2  spotify:track:7KA4W4McWYRpgf0fWsJZWB         0.558   0.559    6    -9.222   \n",
       "3  spotify:track:3gbBpTdY8lnQwqxNCcf795         0.679   0.715    9    -6.383   \n",
       "4  spotify:track:3ZFTkvIE7kyPt6Nu3PEa7V         0.778   0.824   10    -5.892   \n",
       "\n",
       "   mode  speechiness  acousticness  instrumentalness  liveness  valence  \\\n",
       "0     0       0.0464        0.6340          0.000000     0.116    0.437   \n",
       "1     0       0.0474        0.1790          0.000000     0.689    0.625   \n",
       "2     1       0.0959        0.3710          0.000007     0.109    0.620   \n",
       "3     1       0.0407        0.0755          0.000000     0.271    0.571   \n",
       "4     0       0.0707        0.2840          0.000000     0.405    0.758   \n",
       "\n",
       "     tempo            type                      id  \\\n",
       "0  128.945  audio_features  7dS5EaCoMnN7DzlpT6aRn2   \n",
       "1  129.965  audio_features  2V4bv1fNWfTcyRJKmej6Sj   \n",
       "2   78.558  audio_features  7KA4W4McWYRpgf0fWsJZWB   \n",
       "3  127.435  audio_features  3gbBpTdY8lnQwqxNCcf795   \n",
       "4  100.024  audio_features  3ZFTkvIE7kyPt6Nu3PEa7V   \n",
       "\n",
       "                                          track_href  \\\n",
       "0  https://api.spotify.com/v1/tracks/7dS5EaCoMnN7...   \n",
       "1  https://api.spotify.com/v1/tracks/2V4bv1fNWfTc...   \n",
       "2  https://api.spotify.com/v1/tracks/7KA4W4McWYRp...   \n",
       "3  https://api.spotify.com/v1/tracks/3gbBpTdY8lnQ...   \n",
       "4  https://api.spotify.com/v1/tracks/3ZFTkvIE7kyP...   \n",
       "\n",
       "                                        analysis_url  duration_ms  \\\n",
       "0  https://api.spotify.com/v1/audio-analysis/7dS5...       241688   \n",
       "1  https://api.spotify.com/v1/audio-analysis/2V4b...       213293   \n",
       "2  https://api.spotify.com/v1/audio-analysis/7KA4...       180387   \n",
       "3  https://api.spotify.com/v1/audio-analysis/3gbB...       214148   \n",
       "4  https://api.spotify.com/v1/audio-analysis/3ZFT...       218093   \n",
       "\n",
       "   time_signature  \n",
       "0               4  \n",
       "1               4  \n",
       "2               4  \n",
       "3               4  \n",
       "4               4  "
      ]
     },
     "metadata": {},
     "output_type": "display_data"
    },
    {
     "data": {
      "text/html": [
       "<div>\n",
       "<style scoped>\n",
       "    .dataframe tbody tr th:only-of-type {\n",
       "        vertical-align: middle;\n",
       "    }\n",
       "\n",
       "    .dataframe tbody tr th {\n",
       "        vertical-align: top;\n",
       "    }\n",
       "\n",
       "    .dataframe thead th {\n",
       "        text-align: right;\n",
       "    }\n",
       "</style>\n",
       "<table border=\"1\" class=\"dataframe\">\n",
       "  <thead>\n",
       "    <tr style=\"text-align: right;\">\n",
       "      <th></th>\n",
       "      <th>title</th>\n",
       "      <th>artist</th>\n",
       "      <th>uri</th>\n",
       "      <th>danceability</th>\n",
       "      <th>energy</th>\n",
       "      <th>key</th>\n",
       "      <th>loudness</th>\n",
       "      <th>mode</th>\n",
       "      <th>speechiness</th>\n",
       "      <th>acousticness</th>\n",
       "      <th>instrumentalness</th>\n",
       "      <th>liveness</th>\n",
       "      <th>valence</th>\n",
       "      <th>tempo</th>\n",
       "      <th>type</th>\n",
       "      <th>id</th>\n",
       "      <th>track_href</th>\n",
       "      <th>analysis_url</th>\n",
       "      <th>duration_ms</th>\n",
       "      <th>time_signature</th>\n",
       "    </tr>\n",
       "  </thead>\n",
       "  <tbody>\n",
       "    <tr>\n",
       "      <th>11331</th>\n",
       "      <td>Jambalaya (On The Bayou)</td>\n",
       "      <td>John Fogerty</td>\n",
       "      <td>spotify:track:6389cBCT7TWS2Nx0KVsjrk</td>\n",
       "      <td>0.742</td>\n",
       "      <td>0.756</td>\n",
       "      <td>2</td>\n",
       "      <td>-10.121</td>\n",
       "      <td>1</td>\n",
       "      <td>0.0262</td>\n",
       "      <td>0.6240</td>\n",
       "      <td>0.000130</td>\n",
       "      <td>0.0800</td>\n",
       "      <td>0.977</td>\n",
       "      <td>98.568</td>\n",
       "      <td>audio_features</td>\n",
       "      <td>6389cBCT7TWS2Nx0KVsjrk</td>\n",
       "      <td>https://api.spotify.com/v1/tracks/6389cBCT7TWS...</td>\n",
       "      <td>https://api.spotify.com/v1/audio-analysis/6389...</td>\n",
       "      <td>197760</td>\n",
       "      <td>4</td>\n",
       "    </tr>\n",
       "    <tr>\n",
       "      <th>11332</th>\n",
       "      <td>Hearts Of Stone</td>\n",
       "      <td>John Fogerty</td>\n",
       "      <td>spotify:track:2uJVtJd1w2N8vg6pJmaNdN</td>\n",
       "      <td>0.412</td>\n",
       "      <td>0.677</td>\n",
       "      <td>6</td>\n",
       "      <td>-10.763</td>\n",
       "      <td>1</td>\n",
       "      <td>0.0376</td>\n",
       "      <td>0.5370</td>\n",
       "      <td>0.006640</td>\n",
       "      <td>0.1210</td>\n",
       "      <td>0.853</td>\n",
       "      <td>205.922</td>\n",
       "      <td>audio_features</td>\n",
       "      <td>2uJVtJd1w2N8vg6pJmaNdN</td>\n",
       "      <td>https://api.spotify.com/v1/tracks/2uJVtJd1w2N8...</td>\n",
       "      <td>https://api.spotify.com/v1/audio-analysis/2uJV...</td>\n",
       "      <td>134000</td>\n",
       "      <td>4</td>\n",
       "    </tr>\n",
       "    <tr>\n",
       "      <th>11333</th>\n",
       "      <td>Rock and Roll Girls</td>\n",
       "      <td>John Fogerty</td>\n",
       "      <td>spotify:track:5DeuAlTIDflXOomztXYM5D</td>\n",
       "      <td>0.794</td>\n",
       "      <td>0.730</td>\n",
       "      <td>7</td>\n",
       "      <td>-6.067</td>\n",
       "      <td>1</td>\n",
       "      <td>0.0332</td>\n",
       "      <td>0.0538</td>\n",
       "      <td>0.000832</td>\n",
       "      <td>0.0826</td>\n",
       "      <td>0.767</td>\n",
       "      <td>128.999</td>\n",
       "      <td>audio_features</td>\n",
       "      <td>5DeuAlTIDflXOomztXYM5D</td>\n",
       "      <td>https://api.spotify.com/v1/tracks/5DeuAlTIDflX...</td>\n",
       "      <td>https://api.spotify.com/v1/audio-analysis/5Deu...</td>\n",
       "      <td>206640</td>\n",
       "      <td>4</td>\n",
       "    </tr>\n",
       "    <tr>\n",
       "      <th>11334</th>\n",
       "      <td>Rockin' All Over The World</td>\n",
       "      <td>John Fogerty</td>\n",
       "      <td>spotify:track:2X0fwXZpoAbVZdyFVjJOUm</td>\n",
       "      <td>0.539</td>\n",
       "      <td>0.909</td>\n",
       "      <td>2</td>\n",
       "      <td>-6.546</td>\n",
       "      <td>1</td>\n",
       "      <td>0.0423</td>\n",
       "      <td>0.5180</td>\n",
       "      <td>0.000394</td>\n",
       "      <td>0.5580</td>\n",
       "      <td>0.964</td>\n",
       "      <td>130.821</td>\n",
       "      <td>audio_features</td>\n",
       "      <td>2X0fwXZpoAbVZdyFVjJOUm</td>\n",
       "      <td>https://api.spotify.com/v1/tracks/2X0fwXZpoAbV...</td>\n",
       "      <td>https://api.spotify.com/v1/audio-analysis/2X0f...</td>\n",
       "      <td>173000</td>\n",
       "      <td>4</td>\n",
       "    </tr>\n",
       "    <tr>\n",
       "      <th>11335</th>\n",
       "      <td>Walking on the Chinese Wall</td>\n",
       "      <td>Philip Bailey</td>\n",
       "      <td>spotify:track:0PXHA9nXcu4UOJFXvye9LE</td>\n",
       "      <td>0.488</td>\n",
       "      <td>0.862</td>\n",
       "      <td>1</td>\n",
       "      <td>-7.653</td>\n",
       "      <td>0</td>\n",
       "      <td>0.0340</td>\n",
       "      <td>0.1690</td>\n",
       "      <td>0.025500</td>\n",
       "      <td>0.1780</td>\n",
       "      <td>0.497</td>\n",
       "      <td>169.956</td>\n",
       "      <td>audio_features</td>\n",
       "      <td>0PXHA9nXcu4UOJFXvye9LE</td>\n",
       "      <td>https://api.spotify.com/v1/tracks/0PXHA9nXcu4U...</td>\n",
       "      <td>https://api.spotify.com/v1/audio-analysis/0PXH...</td>\n",
       "      <td>308773</td>\n",
       "      <td>4</td>\n",
       "    </tr>\n",
       "  </tbody>\n",
       "</table>\n",
       "</div>"
      ],
      "text/plain": [
       "                             title         artist  \\\n",
       "11331     Jambalaya (On The Bayou)   John Fogerty   \n",
       "11332              Hearts Of Stone   John Fogerty   \n",
       "11333          Rock and Roll Girls   John Fogerty   \n",
       "11334   Rockin' All Over The World   John Fogerty   \n",
       "11335  Walking on the Chinese Wall  Philip Bailey   \n",
       "\n",
       "                                        uri  danceability  energy  key  \\\n",
       "11331  spotify:track:6389cBCT7TWS2Nx0KVsjrk         0.742   0.756    2   \n",
       "11332  spotify:track:2uJVtJd1w2N8vg6pJmaNdN         0.412   0.677    6   \n",
       "11333  spotify:track:5DeuAlTIDflXOomztXYM5D         0.794   0.730    7   \n",
       "11334  spotify:track:2X0fwXZpoAbVZdyFVjJOUm         0.539   0.909    2   \n",
       "11335  spotify:track:0PXHA9nXcu4UOJFXvye9LE         0.488   0.862    1   \n",
       "\n",
       "       loudness  mode  speechiness  acousticness  instrumentalness  liveness  \\\n",
       "11331   -10.121     1       0.0262        0.6240          0.000130    0.0800   \n",
       "11332   -10.763     1       0.0376        0.5370          0.006640    0.1210   \n",
       "11333    -6.067     1       0.0332        0.0538          0.000832    0.0826   \n",
       "11334    -6.546     1       0.0423        0.5180          0.000394    0.5580   \n",
       "11335    -7.653     0       0.0340        0.1690          0.025500    0.1780   \n",
       "\n",
       "       valence    tempo            type                      id  \\\n",
       "11331    0.977   98.568  audio_features  6389cBCT7TWS2Nx0KVsjrk   \n",
       "11332    0.853  205.922  audio_features  2uJVtJd1w2N8vg6pJmaNdN   \n",
       "11333    0.767  128.999  audio_features  5DeuAlTIDflXOomztXYM5D   \n",
       "11334    0.964  130.821  audio_features  2X0fwXZpoAbVZdyFVjJOUm   \n",
       "11335    0.497  169.956  audio_features  0PXHA9nXcu4UOJFXvye9LE   \n",
       "\n",
       "                                              track_href  \\\n",
       "11331  https://api.spotify.com/v1/tracks/6389cBCT7TWS...   \n",
       "11332  https://api.spotify.com/v1/tracks/2uJVtJd1w2N8...   \n",
       "11333  https://api.spotify.com/v1/tracks/5DeuAlTIDflX...   \n",
       "11334  https://api.spotify.com/v1/tracks/2X0fwXZpoAbV...   \n",
       "11335  https://api.spotify.com/v1/tracks/0PXHA9nXcu4U...   \n",
       "\n",
       "                                            analysis_url  duration_ms  \\\n",
       "11331  https://api.spotify.com/v1/audio-analysis/6389...       197760   \n",
       "11332  https://api.spotify.com/v1/audio-analysis/2uJV...       134000   \n",
       "11333  https://api.spotify.com/v1/audio-analysis/5Deu...       206640   \n",
       "11334  https://api.spotify.com/v1/audio-analysis/2X0f...       173000   \n",
       "11335  https://api.spotify.com/v1/audio-analysis/0PXH...       308773   \n",
       "\n",
       "       time_signature  \n",
       "11331               4  \n",
       "11332               4  \n",
       "11333               4  \n",
       "11334               4  \n",
       "11335               4  "
      ]
     },
     "metadata": {},
     "output_type": "display_data"
    },
    {
     "data": {
      "text/plain": [
       "(11336, 20)"
      ]
     },
     "metadata": {},
     "output_type": "display_data"
    }
   ],
   "source": [
    "display(spotify_data.head(5), spotify_data.tail(5), spotify_data.shape)\n"
   ]
  },
  {
   "cell_type": "code",
   "execution_count": 87,
   "id": "780d79f3",
   "metadata": {},
   "outputs": [],
   "source": [
    "spotify_data.to_csv('spotify_data.csv', index=False)\n"
   ]
  },
  {
   "cell_type": "code",
   "execution_count": null,
   "id": "75210a34",
   "metadata": {},
   "outputs": [],
   "source": []
  }
 ],
 "metadata": {
  "kernelspec": {
   "display_name": "Python 3 (ipykernel)",
   "language": "python",
   "name": "python3"
  },
  "language_info": {
   "codemirror_mode": {
    "name": "ipython",
    "version": 3
   },
   "file_extension": ".py",
   "mimetype": "text/x-python",
   "name": "python",
   "nbconvert_exporter": "python",
   "pygments_lexer": "ipython3",
   "version": "3.9.13"
  }
 },
 "nbformat": 4,
 "nbformat_minor": 5
}
